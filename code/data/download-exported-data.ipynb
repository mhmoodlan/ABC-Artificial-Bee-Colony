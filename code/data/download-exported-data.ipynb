{
  "nbformat": 4,
  "nbformat_minor": 0,
  "metadata": {
    "colab": {
      "name": "download-exported-data.ipynb",
      "version": "0.3.2",
      "provenance": [],
      "include_colab_link": true
    },
    "kernelspec": {
      "name": "python3",
      "display_name": "Python 3"
    }
  },
  "cells": [
    {
      "cell_type": "markdown",
      "metadata": {
        "id": "view-in-github",
        "colab_type": "text"
      },
      "source": [
        "<a href=\"https://colab.research.google.com/github/mhmoodlan/ABC-Artificial-Bee-Colony/blob/master/code/data/download-exported-data.ipynb\" target=\"_parent\"><img src=\"https://colab.research.google.com/assets/colab-badge.svg\" alt=\"Open In Colab\"/></a>"
      ]
    },
    {
      "cell_type": "code",
      "metadata": {
        "id": "9Wz2-1aQjzyt",
        "colab_type": "code",
        "colab": {}
      },
      "source": [
        ""
      ],
      "execution_count": 0,
      "outputs": []
    },
    {
      "cell_type": "code",
      "metadata": {
        "id": "s4WZYFGxALCm",
        "colab_type": "code",
        "colab": {}
      },
      "source": [
        "!pip install newspaper3k\n",
        "!pip install readability-lxml\n",
        "!pip install langid"
      ],
      "execution_count": 0,
      "outputs": []
    },
    {
      "cell_type": "code",
      "metadata": {
        "id": "mMJBgx4HW2Yk",
        "colab_type": "code",
        "outputId": "2f692757-fff9-4971-a5e1-0fee7737efa7",
        "colab": {
          "base_uri": "https://localhost:8080/",
          "height": 34
        }
      },
      "source": [
        "import tensorflow as tf\n",
        "import pandas as pd\n",
        "import numpy as np\n",
        "from keras.models import load_model\n",
        "from newspaper import Article\n",
        "from readability import Document\n",
        "from bs4 import BeautifulSoup\n",
        "tf.set_random_seed(43)\n",
        "np.random.seed(43)"
      ],
      "execution_count": 0,
      "outputs": [
        {
          "output_type": "stream",
          "text": [
            "Using TensorFlow backend.\n"
          ],
          "name": "stderr"
        }
      ]
    },
    {
      "cell_type": "code",
      "metadata": {
        "id": "jkbRCz5fWUIB",
        "colab_type": "code",
        "colab": {}
      },
      "source": [
        "from google.colab import drive\n",
        "drive.mount('/content/drive')\n",
        "\n",
        "DATA_PATH = '/content/drive/My Drive/NLP project/data/raw-data'"
      ],
      "execution_count": 0,
      "outputs": []
    },
    {
      "cell_type": "code",
      "metadata": {
        "id": "jAN5Oh2OX560",
        "colab_type": "code",
        "outputId": "a6a15846-b872-46da-f575-9e2816df5f33",
        "colab": {
          "base_uri": "https://localhost:8080/",
          "height": 69
        }
      },
      "source": [
        "articles = pd.read_csv(DATA_PATH + '/our-data/hand-labeled-not-related-data/Article-2019-07-01.csv')\n",
        "articles.columns"
      ],
      "execution_count": 0,
      "outputs": [
        {
          "output_type": "execute_result",
          "data": {
            "text/plain": [
              "Index(['region', 'tags', 'id', 'url', 'title', 'created', 'category',\n",
              "       'source__url', 'source__location', 'source__type', 'topic__name'],\n",
              "      dtype='object')"
            ]
          },
          "metadata": {
            "tags": []
          },
          "execution_count": 4
        }
      ]
    },
    {
      "cell_type": "code",
      "metadata": {
        "id": "J-FxmxjTYkTQ",
        "colab_type": "code",
        "colab": {}
      },
      "source": [
        "import datetime\n",
        "from dateutil import parser\n",
        "\n",
        "tf_articles = []\n",
        "for index_, article in articles.iterrows():\n",
        "  \n",
        "  parsed_date = parser.parse(article['created'])\n",
        "  if parsed_date.month == 3 and parsed_date.day <= 24:\n",
        "    continue\n",
        "  tf_articles.append(article)\n",
        "  "
      ],
      "execution_count": 0,
      "outputs": []
    },
    {
      "cell_type": "code",
      "metadata": {
        "id": "KOqO7b9RGVCB",
        "colab_type": "code",
        "outputId": "bd3bb2b6-f9e0-403e-d40a-967ccc0a997b",
        "colab": {
          "base_uri": "https://localhost:8080/",
          "height": 34
        }
      },
      "source": [
        "tmp_df = pd.DataFrame(columns=['region', 'tags', 'id', 'url', 'title', 'created', 'category',\n",
        "       'source__url', 'source__location', 'source__type', 'topic__name'], data=tf_articles)\n",
        "tmp_counter = 0\n",
        "tmp_articles = []\n",
        "for i_, row in tmp_df.iterrows():\n",
        "  \n",
        "  if row['created'][:10] <= '2019-03-26':\n",
        "    tmp_articles.append(row)\n",
        "    tmp_counter+=1\n",
        "tmp_counter"
      ],
      "execution_count": 0,
      "outputs": [
        {
          "output_type": "execute_result",
          "data": {
            "text/plain": [
              "386"
            ]
          },
          "metadata": {
            "tags": []
          },
          "execution_count": 12
        }
      ]
    },
    {
      "cell_type": "code",
      "metadata": {
        "id": "bMrr2cpGvIl6",
        "colab_type": "code",
        "colab": {}
      },
      "source": [
        "tf_articles = tmp_articles"
      ],
      "execution_count": 0,
      "outputs": []
    },
    {
      "cell_type": "code",
      "metadata": {
        "id": "g7T34c7Gb0so",
        "colab_type": "code",
        "colab": {}
      },
      "source": [
        "import langid\n",
        "def is_arabic(text):\n",
        "  lang,_ = langid.classify(text)\n",
        "  return True if lang == 'ar' else False"
      ],
      "execution_count": 0,
      "outputs": []
    },
    {
      "cell_type": "code",
      "metadata": {
        "id": "0vcmA0a-YdCx",
        "colab_type": "code",
        "colab": {}
      },
      "source": [
        "fetched_tf_articles = []\n",
        "i = 0\n",
        "for url in tf_articles:\n",
        "  try:\n",
        "    print(i)\n",
        "    i+=1\n",
        "    article = Article(url['url'])\n",
        "    article.download()\n",
        "    parsed_article = Document(article.html)\n",
        "    article_title = parsed_article.title()\n",
        "    article_content = BeautifulSoup(parsed_article.summary(), 'lxml').get_text()\n",
        "    if not is_arabic(article_title):\n",
        "      continue       \n",
        "    row = '{} {}'.format(article_title, article_content)\n",
        "    fetched_tf_articles.append({'text': row, 'created': url['created']})\n",
        "  except Exception as e:\n",
        "    print('failed on article {}, error message: {}'.format(article.url, str(e)))"
      ],
      "execution_count": 0,
      "outputs": []
    },
    {
      "cell_type": "code",
      "metadata": {
        "id": "AlvMI8jFfQov",
        "colab_type": "code",
        "colab": {}
      },
      "source": [
        "fetched_tf_articles_df = pd.DataFrame(columns=['text', 'created'], data=fetched_tf_articles)\n",
        "fetched_tf_articles_df.to_csv(DATA_PATH+'/our-data/hand-labeled-not-related-data/Article-2019-07-01-texts.csv', index=None)"
      ],
      "execution_count": 0,
      "outputs": []
    },
    {
      "cell_type": "code",
      "metadata": {
        "id": "nzt_39MeAPuW",
        "colab_type": "code",
        "colab": {}
      },
      "source": [
        "fetched_tf_articles_df = pd.read_csv(DATA_PATH + '/our-data/hand-labeled-not-related-data/Article-2019-07-01-texts.csv')"
      ],
      "execution_count": 0,
      "outputs": []
    },
    {
      "cell_type": "code",
      "metadata": {
        "id": "14r060SFFFlm",
        "colab_type": "code",
        "outputId": "f53ed39d-03af-4f04-9f02-500a7507af9b",
        "colab": {
          "base_uri": "https://localhost:8080/",
          "height": 224
        }
      },
      "source": [
        "print(len(fetched_tf_articles_df))\n",
        "fetched_tf_articles_df.head()"
      ],
      "execution_count": 0,
      "outputs": [
        {
          "output_type": "stream",
          "text": [
            "1674\n"
          ],
          "name": "stdout"
        },
        {
          "output_type": "execute_result",
          "data": {
            "text/html": [
              "<div>\n",
              "<style scoped>\n",
              "    .dataframe tbody tr th:only-of-type {\n",
              "        vertical-align: middle;\n",
              "    }\n",
              "\n",
              "    .dataframe tbody tr th {\n",
              "        vertical-align: top;\n",
              "    }\n",
              "\n",
              "    .dataframe thead th {\n",
              "        text-align: right;\n",
              "    }\n",
              "</style>\n",
              "<table border=\"1\" class=\"dataframe\">\n",
              "  <thead>\n",
              "    <tr style=\"text-align: right;\">\n",
              "      <th></th>\n",
              "      <th>text</th>\n",
              "      <th>created</th>\n",
              "    </tr>\n",
              "  </thead>\n",
              "  <tbody>\n",
              "    <tr>\n",
              "      <th>0</th>\n",
              "      <td>وسائل إعلام: 4 قتلى و8 جرحى جراء قصف الحوثيين ...</td>\n",
              "      <td>2019-06-30 22:39:12</td>\n",
              "    </tr>\n",
              "    <tr>\n",
              "      <th>1</th>\n",
              "      <td>أثار عاصفة سياسية.. اشتباك في جبل لبنان يودي ب...</td>\n",
              "      <td>2019-06-30 22:31:16</td>\n",
              "    </tr>\n",
              "    <tr>\n",
              "      <th>2</th>\n",
              "      <td>مقتل يمنيين في قصف حوثي على مدينة تعز    عدن- ...</td>\n",
              "      <td>2019-06-30 21:06:54</td>\n",
              "    </tr>\n",
              "    <tr>\n",
              "      <th>3</th>\n",
              "      <td>غضب المتظاهرين في البصرة يطال منازل المسؤولين ...</td>\n",
              "      <td>2019-06-30 17:34:04</td>\n",
              "    </tr>\n",
              "    <tr>\n",
              "      <th>4</th>\n",
              "      <td>قتيلان في إطلاق نار على موكب وزير لبناني (فيدي...</td>\n",
              "      <td>2019-06-30 17:12:59</td>\n",
              "    </tr>\n",
              "  </tbody>\n",
              "</table>\n",
              "</div>"
            ],
            "text/plain": [
              "                                                text              created\n",
              "0  وسائل إعلام: 4 قتلى و8 جرحى جراء قصف الحوثيين ...  2019-06-30 22:39:12\n",
              "1  أثار عاصفة سياسية.. اشتباك في جبل لبنان يودي ب...  2019-06-30 22:31:16\n",
              "2  مقتل يمنيين في قصف حوثي على مدينة تعز    عدن- ...  2019-06-30 21:06:54\n",
              "3  غضب المتظاهرين في البصرة يطال منازل المسؤولين ...  2019-06-30 17:34:04\n",
              "4  قتيلان في إطلاق نار على موكب وزير لبناني (فيدي...  2019-06-30 17:12:59"
            ]
          },
          "metadata": {
            "tags": []
          },
          "execution_count": 17
        }
      ]
    },
    {
      "cell_type": "code",
      "metadata": {
        "id": "uhO_urTkFQtQ",
        "colab_type": "code",
        "outputId": "ed55c0b9-102b-4eb9-c1d6-53cbee60081d",
        "colab": {
          "base_uri": "https://localhost:8080/",
          "height": 69
        }
      },
      "source": [
        "import nltk\n",
        "nltk.download('punkt')  "
      ],
      "execution_count": 0,
      "outputs": [
        {
          "output_type": "stream",
          "text": [
            "[nltk_data] Downloading package punkt to /root/nltk_data...\n",
            "[nltk_data]   Package punkt is already up-to-date!\n"
          ],
          "name": "stdout"
        },
        {
          "output_type": "execute_result",
          "data": {
            "text/plain": [
              "True"
            ]
          },
          "metadata": {
            "tags": []
          },
          "execution_count": 19
        }
      ]
    },
    {
      "cell_type": "code",
      "metadata": {
        "id": "l6cvQ3_qeZuT",
        "colab_type": "code",
        "colab": {}
      },
      "source": [
        "from nltk import word_tokenize\n",
        "from collections import defaultdict\n",
        "import pickle\n",
        "\n",
        "model = load_model(DATA_PATH + '/../models/old-classifier-from-github/classifier_v2.h5')\n",
        "itos = pickle.load(open(DATA_PATH + '/../models/old-classifier-from-github/itos.pkl', 'rb'))\n",
        "stoi = defaultdict(lambda: 0, {v:k for k,v in enumerate(itos)})\n",
        "def create_toks(data):\n",
        "    return word_tokenize(data)\n",
        "\n",
        "def toks2ids(toks):\n",
        "    return np.array([stoi[p] for p in toks])\n",
        "\n",
        "def vectorize_ids(ids, ndim=30002):\n",
        "    result = np.zeros((1, ndim))\n",
        "    result[0, ids] = 1.\n",
        "    return result\n",
        "\n",
        "def preprocess(data):\n",
        "    toks = create_toks(data)\n",
        "    ids = toks2ids(toks)\n",
        "    res = vectorize_ids(ids)\n",
        "    return res\n",
        "\n",
        "def classify(input):\n",
        "    sample = preprocess(input)\n",
        "    result = model.predict(sample)\n",
        "    return result[0][0] >= 0.75"
      ],
      "execution_count": 0,
      "outputs": []
    },
    {
      "cell_type": "code",
      "metadata": {
        "id": "5sKwRijUfMXP",
        "colab_type": "code",
        "outputId": "f5e0d2de-2878-4d58-ddb8-f5c1c8afc330",
        "colab": {
          "base_uri": "https://localhost:8080/",
          "height": 86
        }
      },
      "source": [
        "pos = 0\n",
        "neg = 0\n",
        "results = []\n",
        "for index_, article in fetched_tf_articles_df.iterrows():\n",
        "  res = classify(article['text'])\n",
        "  if res > 0:\n",
        "    pos+=1\n",
        "    article['label'] = 1\n",
        "    results.append(article)\n",
        "  else:\n",
        "    neg+=1\n",
        "    article['label'] = 0\n",
        "    results.append(article)\n",
        "print(len(fetched_tf_articles_df))\n",
        "print(pos)\n",
        "print(neg)\n",
        "print(len(results))"
      ],
      "execution_count": 0,
      "outputs": [
        {
          "output_type": "stream",
          "text": [
            "1674\n",
            "1518\n",
            "156\n",
            "1674\n"
          ],
          "name": "stdout"
        }
      ]
    },
    {
      "cell_type": "code",
      "metadata": {
        "id": "oQ4zLsn-FTdD",
        "colab_type": "code",
        "colab": {}
      },
      "source": [
        "results_df = pd.DataFrame(columns=['text', 'created', 'label'], data=results)\n",
        "results_df.to_csv(DATA_PATH+'/our-data/hand-labeled-not-related-data/results.csv', index=None)"
      ],
      "execution_count": 0,
      "outputs": []
    },
    {
      "cell_type": "code",
      "metadata": {
        "id": "Y0ludeUNq73w",
        "colab_type": "code",
        "outputId": "45592935-a431-4903-c834-f80e48b89d80",
        "colab": {
          "base_uri": "https://localhost:8080/",
          "height": 34
        }
      },
      "source": [
        "neg_results = []\n",
        "for result in results:\n",
        "  if result['label'] == 0:\n",
        "    neg_results.append(result)\n",
        "len(neg_results)"
      ],
      "execution_count": 0,
      "outputs": [
        {
          "output_type": "execute_result",
          "data": {
            "text/plain": [
              "156"
            ]
          },
          "metadata": {
            "tags": []
          },
          "execution_count": 48
        }
      ]
    },
    {
      "cell_type": "code",
      "metadata": {
        "id": "kVWqZgajtf64",
        "colab_type": "code",
        "outputId": "5b59ce3f-721d-4d52-b06a-be9122a79895",
        "colab": {
          "base_uri": "https://localhost:8080/",
          "height": 206
        }
      },
      "source": [
        "neg_results_df = pd.DataFrame(columns=['text', 'created', 'label'], data=neg_results)\n",
        "neg_results_df.head()"
      ],
      "execution_count": 0,
      "outputs": [
        {
          "output_type": "execute_result",
          "data": {
            "text/html": [
              "<div>\n",
              "<style scoped>\n",
              "    .dataframe tbody tr th:only-of-type {\n",
              "        vertical-align: middle;\n",
              "    }\n",
              "\n",
              "    .dataframe tbody tr th {\n",
              "        vertical-align: top;\n",
              "    }\n",
              "\n",
              "    .dataframe thead th {\n",
              "        text-align: right;\n",
              "    }\n",
              "</style>\n",
              "<table border=\"1\" class=\"dataframe\">\n",
              "  <thead>\n",
              "    <tr style=\"text-align: right;\">\n",
              "      <th></th>\n",
              "      <th>text</th>\n",
              "      <th>created</th>\n",
              "      <th>label</th>\n",
              "    </tr>\n",
              "  </thead>\n",
              "  <tbody>\n",
              "    <tr>\n",
              "      <th>14</th>\n",
              "      <td>محتجو \"السترات الصفراء\" يتحدون الحر ويواصلون ا...</td>\n",
              "      <td>2019-06-29 23:08:11</td>\n",
              "      <td>0</td>\n",
              "    </tr>\n",
              "    <tr>\n",
              "      <th>36</th>\n",
              "      <td>أوروبا تغلي... حرارة قياسية وحرائق ووفيات | ال...</td>\n",
              "      <td>2019-06-28 21:16:34</td>\n",
              "      <td>0</td>\n",
              "    </tr>\n",
              "    <tr>\n",
              "      <th>43</th>\n",
              "      <td>السلطات الإثيوبية تحتجز المتحدث باسم حزب سياسي...</td>\n",
              "      <td>2019-06-28 15:35:14</td>\n",
              "      <td>0</td>\n",
              "    </tr>\n",
              "    <tr>\n",
              "      <th>46</th>\n",
              "      <td>انتخاب نيامكو سابوني رئيسة للحزب الليبرالي الس...</td>\n",
              "      <td>2019-06-28 12:01:32</td>\n",
              "      <td>0</td>\n",
              "    </tr>\n",
              "    <tr>\n",
              "      <th>55</th>\n",
              "      <td>فلسطين والمملكة المتحدة يفتتحان مبنى مجلس قروي...</td>\n",
              "      <td>2019-06-28 00:19:30</td>\n",
              "      <td>0</td>\n",
              "    </tr>\n",
              "  </tbody>\n",
              "</table>\n",
              "</div>"
            ],
            "text/plain": [
              "                                                 text  ... label\n",
              "14  محتجو \"السترات الصفراء\" يتحدون الحر ويواصلون ا...  ...     0\n",
              "36  أوروبا تغلي... حرارة قياسية وحرائق ووفيات | ال...  ...     0\n",
              "43  السلطات الإثيوبية تحتجز المتحدث باسم حزب سياسي...  ...     0\n",
              "46  انتخاب نيامكو سابوني رئيسة للحزب الليبرالي الس...  ...     0\n",
              "55  فلسطين والمملكة المتحدة يفتتحان مبنى مجلس قروي...  ...     0\n",
              "\n",
              "[5 rows x 3 columns]"
            ]
          },
          "metadata": {
            "tags": []
          },
          "execution_count": 53
        }
      ]
    },
    {
      "cell_type": "code",
      "metadata": {
        "id": "kD52oQoOts9B",
        "colab_type": "code",
        "colab": {}
      },
      "source": [
        "neg_results_df.to_csv(DATA_PATH+'/our-data/hand-labeled-not-related-data/neg_results.csv', index=None)"
      ],
      "execution_count": 0,
      "outputs": []
    },
    {
      "cell_type": "code",
      "metadata": {
        "id": "2E42HBKPrEW6",
        "colab_type": "code",
        "outputId": "1fbc23ee-3a9f-48f9-a9bf-2d61b8428a75",
        "colab": {
          "base_uri": "https://localhost:8080/",
          "height": 34
        }
      },
      "source": [
        "pos_results = []\n",
        "for result in results:\n",
        "  if result['label'] == 1:\n",
        "    pos_results.append(result)\n",
        "len(pos_results)"
      ],
      "execution_count": 0,
      "outputs": [
        {
          "output_type": "execute_result",
          "data": {
            "text/plain": [
              "1518"
            ]
          },
          "metadata": {
            "tags": []
          },
          "execution_count": 49
        }
      ]
    },
    {
      "cell_type": "code",
      "metadata": {
        "id": "_9tGPoATr1Xp",
        "colab_type": "code",
        "outputId": "facc9e2e-1d01-4eef-b925-e7f0d60fa7f5",
        "colab": {
          "base_uri": "https://localhost:8080/",
          "height": 206
        }
      },
      "source": [
        "pos_results_df = pd.DataFrame(columns=['text', 'created', 'label'], data=pos_results)\n",
        "pos_results_df.head()"
      ],
      "execution_count": 0,
      "outputs": [
        {
          "output_type": "execute_result",
          "data": {
            "text/html": [
              "<div>\n",
              "<style scoped>\n",
              "    .dataframe tbody tr th:only-of-type {\n",
              "        vertical-align: middle;\n",
              "    }\n",
              "\n",
              "    .dataframe tbody tr th {\n",
              "        vertical-align: top;\n",
              "    }\n",
              "\n",
              "    .dataframe thead th {\n",
              "        text-align: right;\n",
              "    }\n",
              "</style>\n",
              "<table border=\"1\" class=\"dataframe\">\n",
              "  <thead>\n",
              "    <tr style=\"text-align: right;\">\n",
              "      <th></th>\n",
              "      <th>text</th>\n",
              "      <th>created</th>\n",
              "      <th>label</th>\n",
              "    </tr>\n",
              "  </thead>\n",
              "  <tbody>\n",
              "    <tr>\n",
              "      <th>0</th>\n",
              "      <td>وسائل إعلام: 4 قتلى و8 جرحى جراء قصف الحوثيين ...</td>\n",
              "      <td>2019-06-30 22:39:12</td>\n",
              "      <td>1</td>\n",
              "    </tr>\n",
              "    <tr>\n",
              "      <th>1</th>\n",
              "      <td>أثار عاصفة سياسية.. اشتباك في جبل لبنان يودي ب...</td>\n",
              "      <td>2019-06-30 22:31:16</td>\n",
              "      <td>1</td>\n",
              "    </tr>\n",
              "    <tr>\n",
              "      <th>2</th>\n",
              "      <td>مقتل يمنيين في قصف حوثي على مدينة تعز    عدن- ...</td>\n",
              "      <td>2019-06-30 21:06:54</td>\n",
              "      <td>1</td>\n",
              "    </tr>\n",
              "    <tr>\n",
              "      <th>3</th>\n",
              "      <td>غضب المتظاهرين في البصرة يطال منازل المسؤولين ...</td>\n",
              "      <td>2019-06-30 17:34:04</td>\n",
              "      <td>1</td>\n",
              "    </tr>\n",
              "    <tr>\n",
              "      <th>4</th>\n",
              "      <td>قتيلان في إطلاق نار على موكب وزير لبناني (فيدي...</td>\n",
              "      <td>2019-06-30 17:12:59</td>\n",
              "      <td>1</td>\n",
              "    </tr>\n",
              "  </tbody>\n",
              "</table>\n",
              "</div>"
            ],
            "text/plain": [
              "                                                text  ... label\n",
              "0  وسائل إعلام: 4 قتلى و8 جرحى جراء قصف الحوثيين ...  ...     1\n",
              "1  أثار عاصفة سياسية.. اشتباك في جبل لبنان يودي ب...  ...     1\n",
              "2  مقتل يمنيين في قصف حوثي على مدينة تعز    عدن- ...  ...     1\n",
              "3  غضب المتظاهرين في البصرة يطال منازل المسؤولين ...  ...     1\n",
              "4  قتيلان في إطلاق نار على موكب وزير لبناني (فيدي...  ...     1\n",
              "\n",
              "[5 rows x 3 columns]"
            ]
          },
          "metadata": {
            "tags": []
          },
          "execution_count": 51
        }
      ]
    },
    {
      "cell_type": "code",
      "metadata": {
        "id": "8oXKCyQxs2wO",
        "colab_type": "code",
        "colab": {}
      },
      "source": [
        "pos_results_df.to_csv(DATA_PATH +'/our-data/hand-labeled-not-related-data/pos_results.csv', index=None)"
      ],
      "execution_count": 0,
      "outputs": []
    },
    {
      "cell_type": "code",
      "metadata": {
        "id": "tsVL1mvUtehs",
        "colab_type": "code",
        "colab": {}
      },
      "source": [
        "test_data = pd.read_csv(DATA_PATH +'/our-data/hand-labeled-not-related-data/pos_results.csv')"
      ],
      "execution_count": 0,
      "outputs": []
    },
    {
      "cell_type": "code",
      "metadata": {
        "id": "FhoVYxMYuLs2",
        "colab_type": "code",
        "outputId": "09374e2f-13c0-41f3-aa39-892913f5206e",
        "colab": {
          "base_uri": "https://localhost:8080/",
          "height": 86
        }
      },
      "source": [
        "test_pos = 0\n",
        "test_neg = 0\n",
        "test_results = []\n",
        "for index_, article in test_data.iterrows():\n",
        "  res = classify(article['text'])\n",
        "  if res > 0:\n",
        "    test_pos+=1\n",
        "    article['label'] = 1\n",
        "    test_results.append(article)\n",
        "  else:\n",
        "    test_neg+=1\n",
        "    article['label'] = 0\n",
        "    test_results.append(article)\n",
        "print(len(test_data))\n",
        "print(test_pos)\n",
        "print(test_neg)\n",
        "print(len(test_results))"
      ],
      "execution_count": 0,
      "outputs": [
        {
          "output_type": "stream",
          "text": [
            "1518\n",
            "1518\n",
            "0\n",
            "1518\n"
          ],
          "name": "stdout"
        }
      ]
    },
    {
      "cell_type": "code",
      "metadata": {
        "id": "YCKxJjsGubwJ",
        "colab_type": "code",
        "colab": {}
      },
      "source": [
        ""
      ],
      "execution_count": 0,
      "outputs": []
    }
  ]
}